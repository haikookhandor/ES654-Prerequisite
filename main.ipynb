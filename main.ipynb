{
  "nbformat": 4,
  "nbformat_minor": 0,
  "metadata": {
    "colab": {
      "provenance": []
    },
    "kernelspec": {
      "name": "python3",
      "display_name": "Python 3"
    },
    "language_info": {
      "name": "python"
    }
  },
  "cells": [
    {
      "cell_type": "markdown",
      "source": [
        "## Pip installs"
      ],
      "metadata": {
        "id": "OEcZiDH-Q1tU"
      }
    },
    {
      "cell_type": "code",
      "source": [
        "%pip install sympy"
      ],
      "metadata": {
        "id": "L2f5SVwgQ3Ze",
        "colab": {
          "base_uri": "https://localhost:8080/"
        },
        "outputId": "cad3153f-af1f-4a4d-ced2-6492075e5a39"
      },
      "execution_count": null,
      "outputs": [
        {
          "output_type": "stream",
          "name": "stdout",
          "text": [
            "Looking in indexes: https://pypi.org/simple, https://us-python.pkg.dev/colab-wheels/public/simple/\n",
            "Requirement already satisfied: sympy in /usr/local/lib/python3.8/dist-packages (1.7.1)\n",
            "Requirement already satisfied: mpmath>=0.19 in /usr/local/lib/python3.8/dist-packages (from sympy) (1.2.1)\n"
          ]
        }
      ]
    },
    {
      "cell_type": "markdown",
      "source": [
        "## Imports"
      ],
      "metadata": {
        "id": "rJ53c5a1QpNd"
      }
    },
    {
      "cell_type": "code",
      "source": [
        "# Necessary Imports\n",
        "import jax\n",
        "import jax.numpy as jnp\n",
        "from sympy import diff, sin, exp \n",
        "from sympy.abc import x,y \n",
        "import matplotlib.pyplot as plt\n",
        "import numpy as np\n",
        "import pandas as pd"
      ],
      "metadata": {
        "id": "454tuIRxQzFq"
      },
      "execution_count": null,
      "outputs": []
    },
    {
      "cell_type": "markdown",
      "source": [
        "**Q4.** What is the gradient of the following function with respect to x and y? \\\\\n",
        "  $ x^{2}y + y^{3}sin(x) $\n"
      ],
      "metadata": {
        "id": "Gm0l7zCC7e9B"
      }
    },
    {
      "cell_type": "markdown",
      "source": [
        "**A4.** \\\\\n",
        "The Gradient of the following function with respect to **x** is given by: $2xy + y^3cos(x) $\n",
        "\n",
        "The Gradient of the following function with respect to **y** is given by: $x^2 + 3y^2sin(x) $"
      ],
      "metadata": {
        "id": "QwiM7Zs38SlC"
      }
    },
    {
      "cell_type": "markdown",
      "source": [
        "**Q5.**Use JAX to confirm the gradient evaluated by your method matches the analytical solution corresponding to a few random values of x and y."
      ],
      "metadata": {
        "id": "BIbVPQcs8pkY"
      }
    },
    {
      "cell_type": "code",
      "source": [
        "# definition of the polynomial into consideration, it returns the value of the function and accepts the input of the value of the variables\n",
        "def poly(f):\n",
        "  return (f[0]**2)*(f[1]) + (f[1]**3)*jnp.sin(f[0])\n",
        "\n",
        "f_init = jnp.array([jnp.pi, 2.0]) # Random initial values\n",
        "grad_x = jax.grad(poly) # Calculates the gradient of the function with respect to x and y both together\n",
        "\n",
        "print(f\"Gradient with respect to x is: {grad_x(f_init)[0]} and with respect to y is: {grad_x(f_init)[1]} [Using Jax inbuilt function grad]\")\n",
        "print(f\"Gradient with respect to x is: {(2*(f_init[0])*(f_init[1])+(f_init[1]**3)*(jnp.cos(f_init[0])))} and with respect to y is: {(f_init[0]**2+(3*(f_init[1]**2))*(jnp.sin(f_init[0])))} [Manual calculation of gradient by putting initial values in the gradient]\")\n",
        "print(\"Hence gradient evaluated by our method is equal to that of the analytical solution.\")"
      ],
      "metadata": {
        "colab": {
          "base_uri": "https://localhost:8080/"
        },
        "id": "AVWsALYJ9kt9",
        "outputId": "52ef6e63-413c-4a2e-c87c-5fcb1293f66c"
      },
      "execution_count": null,
      "outputs": [
        {
          "output_type": "stream",
          "name": "stderr",
          "text": [
            "WARNING:jax._src.lib.xla_bridge:No GPU/TPU found, falling back to CPU. (Set TF_CPP_MIN_LOG_LEVEL=0 and rerun for more info.)\n"
          ]
        },
        {
          "output_type": "stream",
          "name": "stdout",
          "text": [
            "Gradient with respect to x is: 4.566370964050293 and with respect to y is: 9.869604110717773 [Using Jax inbuilt function grad]\n",
            "Gradient with respect to x is: 4.566370964050293 and with respect to y is: 9.869604110717773 [Manual calculation of gradient by putting initial values in the gradient]\n",
            "Hence gradient evaluated by our method is equal to that of the analytical solution.\n"
          ]
        }
      ]
    },
    {
      "cell_type": "markdown",
      "source": [
        "**Q6.** Use sympy to confirm that you obtain the same gradient analytically."
      ],
      "metadata": {
        "id": "O3d1bDUKEZ_c"
      }
    },
    {
      "cell_type": "code",
      "source": [
        "f = (x**2)*y + (y**3)*sin(x) # function definition"
      ],
      "metadata": {
        "id": "SGzDRzLkFZNm"
      },
      "execution_count": null,
      "outputs": []
    },
    {
      "cell_type": "code",
      "source": [
        "diff(f,x) #differentiate f with respect to x"
      ],
      "metadata": {
        "colab": {
          "base_uri": "https://localhost:8080/",
          "height": 39
        },
        "id": "Se9h0F1UGFtQ",
        "outputId": "89b085ef-e2a8-47c3-fe29-359e42e0cc05"
      },
      "execution_count": null,
      "outputs": [
        {
          "output_type": "execute_result",
          "data": {
            "text/plain": [
              "2*x*y + y**3*cos(x)"
            ],
            "text/latex": "$\\displaystyle 2 x y + y^{3} \\cos{\\left(x \\right)}$"
          },
          "metadata": {},
          "execution_count": 5
        }
      ]
    },
    {
      "cell_type": "code",
      "source": [
        "diff(f,y) #differentiate f with respect to y"
      ],
      "metadata": {
        "colab": {
          "base_uri": "https://localhost:8080/",
          "height": 39
        },
        "id": "q4Ux8YvcGRkZ",
        "outputId": "9cfcb3f4-d458-49b6-f3ae-170c48519901"
      },
      "execution_count": null,
      "outputs": [
        {
          "output_type": "execute_result",
          "data": {
            "text/plain": [
              "x**2 + 3*y**2*sin(x)"
            ],
            "text/latex": "$\\displaystyle x^{2} + 3 y^{2} \\sin{\\left(x \\right)}$"
          },
          "metadata": {},
          "execution_count": 6
        }
      ]
    },
    {
      "cell_type": "markdown",
      "source": [
        "The Gradient that we get using sympy library in the same as that analytically derived as given below: \\\\\n",
        "The Gradient(Analytically) with respect to **x** is given by: $2xy + y^3cos(x) $\n",
        "\n",
        "The Gradient (Analytically) with respect to **y** is given by: $x^2 + 3y^2sin(x) $"
      ],
      "metadata": {
        "id": "SY4LDP_KCZpw"
      }
    },
    {
      "cell_type": "markdown",
      "source": [
        "---"
      ],
      "metadata": {
        "id": "sRP4VdlBCxOd"
      }
    }
  ]
}